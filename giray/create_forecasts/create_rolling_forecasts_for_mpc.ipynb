{
 "cells": [
  {
   "cell_type": "code",
   "execution_count": 2,
   "metadata": {},
   "outputs": [],
   "source": [
    "import pandas as pd\n",
    "import numpy as np\n",
    "import matplotlib.pyplot as plt\n",
    "from matplotlib.dates import DateFormatter\n",
    "from ipywidgets import interact, Dropdown, IntSlider, DatePicker\n",
    "\n",
    "def reorder_csv(csv_file):\n",
    "    df = pd.read_csv(csv_file)\n",
    "    df['predict_time'] = pd.to_datetime(df['predict_time'], utc=True).dt.tz_convert('US/Pacific')\n",
    "    df['forecast_time'] = pd.to_datetime(df['forecast_time'], utc=True).dt.tz_convert('US/Pacific')\n",
    "    forecast_lookup = {}\n",
    "    for f_time, group in df.groupby('forecast_time'):\n",
    "        forecast_lookup[f_time] = group.sort_values('predict_time')\n",
    "    return df, forecast_lookup\n",
    "\n",
    "\n",
    "def get_latest_forecast_value(forecast_lookup, variable, current_time, target_time):\n",
    "    if target_time not in forecast_lookup:\n",
    "        return np.nan\n",
    "    group = forecast_lookup[target_time]\n",
    "    candidates = group[group['predict_time'] <= current_time]\n",
    "    if candidates.empty:\n",
    "        return np.nan\n",
    "    return candidates.iloc[-1][variable]\n",
    "\n",
    "def generate_forecast_vector(forecast_lookup, variable, current_time, horizon):\n",
    "    current_time = pd.to_datetime(current_time)\n",
    "    forecast_vector = []\n",
    "    for h in range(1, horizon + 1):\n",
    "        target_time = current_time + pd.Timedelta(hours=h)\n",
    "        value = get_latest_forecast_value(forecast_lookup, variable, current_time, target_time)\n",
    "        forecast_vector.append(value)\n",
    "    return np.array(forecast_vector)\n",
    "\n",
    "def generate_forecasts_over_time(forecast_lookup, variable, horizon):\n",
    "    assert horizon <= 119, \"Horizon must be <= 119 hours\"\n",
    "    start_time = pd.Timestamp('2018-01-01 00:00:00-08:00', tz='US/Pacific')\n",
    "    end_time = pd.Timestamp('2022-12-31 23:00:00-08:00', tz='US/Pacific')\n",
    "    tz = start_time.tz\n",
    "    hourly_times = pd.date_range(start=start_time, end=end_time, freq='h', tz=tz)\n",
    "    forecast_dict = {}\n",
    "    for current_time in hourly_times:\n",
    "        vec = generate_forecast_vector(forecast_lookup, variable, current_time, horizon)\n",
    "        forecast_dict[current_time] = vec\n",
    "    return forecast_dict\n",
    "\n",
    "def forecast_dict_to_dataframe(forecast_dict):\n",
    "    df = pd.DataFrame.from_dict(forecast_dict, orient='index')\n",
    "    df.index.name = 'prediction_time'\n",
    "    df.columns = [f'h+{i}' for i in range(1, df.shape[1] + 1)]\n",
    "    return df\n",
    "\n",
    "def launch_day_hour_forecast_picker(forecast_df):\n",
    "    \"\"\"\n",
    "    Interactive line plot using a calendar (for day) and a slider (for hour).\n",
    "    \"\"\"\n",
    "    available_times = forecast_df.index.tz_convert('US/Pacific')\n",
    "    available_dates = sorted(set(ts.date() for ts in available_times))\n",
    "\n",
    "    # Global y-axis scale\n",
    "    global_min = forecast_df.min().min()\n",
    "    global_max = forecast_df.max().max()\n",
    "\n",
    "    @interact(\n",
    "        date=DatePicker(\n",
    "            value=available_dates[len(available_dates)//2],\n",
    "            description='Date:'\n",
    "        ),\n",
    "        hour=IntSlider(min=0, max=23, step=1, value=12, description='Hour:')\n",
    "    )\n",
    "    def plot_forecast(date, hour):\n",
    "        # Combine selected date and hour into a timezone-aware datetime\n",
    "        try:\n",
    "            selected_dt = pd.Timestamp(f'{date} {hour:02d}:00:00', tz='US/Pacific')\n",
    "        except Exception:\n",
    "            print(\"Invalid date/hour selection.\")\n",
    "            return\n",
    "\n",
    "        if selected_dt not in forecast_df.index:\n",
    "            print(\"No forecast available at selected date and hour.\")\n",
    "            return\n",
    "\n",
    "        y = forecast_df.loc[selected_dt]\n",
    "        x = range(1, len(y) + 1)\n",
    "\n",
    "        plt.figure(figsize=(8, 4))\n",
    "        plt.plot(x, y, color='black', linewidth=2)\n",
    "        plt.title(f'Forecast issued at {selected_dt.tz_convert(\"US/Pacific\").strftime(\"%Y-%m-%d %H:%M %Z\")}')\n",
    "        plt.xlabel('Forecast Horizon (hours ahead)')\n",
    "        plt.ylabel('Forecasted Value')\n",
    "        plt.ylim(global_min, global_max)\n",
    "        plt.grid(True)\n",
    "        plt.tight_layout()\n",
    "        plt.show()"
   ]
  },
  {
   "cell_type": "code",
   "execution_count": 3,
   "metadata": {},
   "outputs": [],
   "source": [
    "df_reordered, forecast_lookup = reorder_csv('forecasts.csv')\n",
    "df_hat_temp_72 = forecast_dict_to_dataframe(generate_forecasts_over_time(forecast_lookup, 'temperature', 72))"
   ]
  },
  {
   "cell_type": "code",
   "execution_count": 4,
   "metadata": {},
   "outputs": [
    {
     "data": {
      "application/vnd.jupyter.widget-view+json": {
       "model_id": "62ba4ae179cb4a6d91b716b56d932391",
       "version_major": 2,
       "version_minor": 0
      },
      "text/plain": [
       "interactive(children=(DatePicker(value=datetime.date(2020, 7, 2), description='Date:', step=1), IntSlider(valu…"
      ]
     },
     "metadata": {},
     "output_type": "display_data"
    }
   ],
   "source": [
    "launch_day_hour_forecast_picker(df_hat_temp_72)"
   ]
  }
 ],
 "metadata": {
  "kernelspec": {
   "display_name": "load",
   "language": "python",
   "name": "load"
  },
  "language_info": {
   "codemirror_mode": {
    "name": "ipython",
    "version": 3
   },
   "file_extension": ".py",
   "mimetype": "text/x-python",
   "name": "python",
   "nbconvert_exporter": "python",
   "pygments_lexer": "ipython3",
   "version": "3.12.2"
  }
 },
 "nbformat": 4,
 "nbformat_minor": 2
}
